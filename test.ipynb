{
 "cells": [
  {
   "cell_type": "code",
   "execution_count": 1,
   "metadata": {},
   "outputs": [
    {
     "name": "stderr",
     "output_type": "stream",
     "text": [
      "c:\\Users\\naman\\AppData\\Local\\Programs\\Python\\Python312\\Lib\\site-packages\\tqdm\\auto.py:21: TqdmWarning: IProgress not found. Please update jupyter and ipywidgets. See https://ipywidgets.readthedocs.io/en/stable/user_install.html\n",
      "  from .autonotebook import tqdm as notebook_tqdm\n"
     ]
    }
   ],
   "source": [
    "from transformers import AutoTokenizer, AutoModelForSeq2SeqLM\n",
    "from peft import PeftModel"
   ]
  },
  {
   "cell_type": "code",
   "execution_count": 11,
   "metadata": {},
   "outputs": [],
   "source": [
    "base_model = \"nsi319/legal-led-base-16384\"\n",
    "led = AutoModelForSeq2SeqLM.from_pretrained(base_model)\n",
    "adapter_model_in = f\"Legal-LED_IN_ABS\"\n",
    "led_in = PeftModel.from_pretrained(led, adapter_model_in)\n",
    "led_in_tokenizer = AutoTokenizer.from_pretrained(base_model)"
   ]
  },
  {
   "cell_type": "code",
   "execution_count": 15,
   "metadata": {},
   "outputs": [],
   "source": [
    "def summarize(model, tokenizer, text):\n",
    "  input_tokenized = tokenizer.encode(text, return_tensors='pt', max_length=1024, truncation=True)\n",
    "  summary_ids = model.generate(input_tokenized, num_beams=4, length_penalty=0.1, min_length=64, max_length=256)\n",
    "  summary = [tokenizer.decode(g, skip_special_tokens=True, clean_up_tokenization_spaces=False) for g in summary_ids][0]\n",
    "  return summary"
   ]
  },
  {
   "cell_type": "code",
   "execution_count": 16,
   "metadata": {},
   "outputs": [],
   "source": [
    "user_text = \"\"\"XXIX of 1950.\n",
    "Application under article 32 of the Constitution of India for a writ of certiorari and prohibition.\n",
    "The facts are stated in the judgment.\n",
    "N.C. Chatterjee (B. Banerji, with him) for the petition er.\n",
    "M.C. Setalvad, Attorney General for India, (section M. Sikri, with him) for the respondent.\n",
    "May 26.\n",
    "The judgment of Kania C.J., Patanjali Sastri, Mehr Chand Mahajan, Mukherjea and Das JJ.\n",
    "was deliv ered by Patanjali Sastri J. Fazl Ali J. delivered a separate dissenting judgment, 607 PATANJALI SASTRI J. This is an application under arti cle 32 of the Constitution praying for the issue of writs of certiorari and prohibition to the respondent, the Chief Commissioner of Delhi, with a view to examine the legality of and quash the order made by him in regard to an English weekly of Delhi called the Organizer of which the first applicant is the printer and publisher, and the second is the editor.\n",
    "On 2nd March, 1950, the respondent, in exercise of powers conferred on him by section 7 (1) (c) of the East Punjab Public Safety Act, 1949, which has been extended to the Delhi Province and is hereinafter referred to as the impugned Act, issued the following order: \"Whereas the Chief Commissioner, Delhi, is satisfied that Organizer, an English weekly of Delhi, has been pub lishing highly objectionable matter constituting a threat to public law and order and that action as is hereinafter mentioned is necessary for the purpose of preventing or combating activities prejudicial to the public safety or the maintenance of public order.\n",
    "Now there more in exercise of the powers conferred by section 7 (1)(c) of the East Punjab Public Safety Act, 1949, as extended to the Delhi Province, I, Shankar Prasad, Chief Commissioner, Delhi, do by this order require you Shri Brij Bhushan, Printer and Publisher and Shri K.R. Halkani, Editor of the aforesaid paper to submit for scrutiny, in duplicate, before publication, till further orders, all communal matter and news and views about Pakistan including photographs and cartoons other than those derived from official sources or supplied by the news agencies, viz., Press Trust of India, United Press of India and United Press of America to the Provincial Press Officer, or in his absence, to Superintend ent of Press Branch at his office at 5, Alipur Road, Civil Lines, Delhi, between the hours 10 a.m. and 5 p.m. on work ing days.\n",
    "\" The only point argued before us relates to the consti tutional validity of section 7 (1) (c) of the impugned Act which, as appears from its preamble, was passed \"to provide special measures to ensure public safety 608 and maintenance of public order.\n",
    "\" Section 7 (1) (c) under which the aforesaid order purports to have been made reads (so far as material here) as follows : \"The Provincial Government or any authority authorised by it in this behalf if satisfied that such action is neces sary for the purpose of preventing or combating any activity prejudicial to the public safety or the maintenance of public order may, by order in writing addressed to a print er, publisher or editor require that any matter relating to a particular subject or class of subjects shall before publication be submitted for scrutiny.\" The petitioners claim that this provision infringes the fundamental right to the freedom of speech and expression conferred upon them by article 19 (1) (a) of the Constitu tion inasmuch as it authorises the imposition of a restric tion on the publication of the journal which is not justi fied under clause (2) of that article.\n",
    "There can be little doubt that the imposition of precen sorship on a journal is a restriction on the liberty of the press which is an essential part of the right to freedom of speech and expression declared by article 19 (1)(a).\n",
    "As pointed out by Blackstone in his Commentaries \"the liberty of the press consists in laying no previous restraint upon publications, and not in freedom from censure for criminal matter when published.\n",
    "Every freeman has an undoubted right to lay what sentiments he pleases before the public; to forbid this, is to destroy the freedom of the press(1).\n",
    "The only question therefore is whether section 7 (1)(c) which authorises the imposition of such a restriction falls within the reservation of clause (2) of article 19.\n",
    "As this question turns on considerations which are essentially the same as those on which our decision in Petition No. XVI of 1950(2) was based, our judgment in that case concludes the present case also.\n",
    "Accordingly, for the reasons indicated in that judgment, we allow this petition and hereby quash the impugned order of the Chief Commission er, Delhi, dated the 2nd March, 1950.\n",
    "(1) Blackstone 's Commentaries, Vol.\n",
    "IV, pp. 151, 152.\n",
    "(2) Romesh Thappar vs The State of Madras, supra p. 594.\n",
    "609 FAZL ALI J.\n",
    "The question raised in this case relates to the validity of 'section 7 (1) (c) of the East Punjab Public Safety Act, 1949 (as extended to the Province of Delhi), which runs as follows : \"The Provincial Government or any authority authorised by it in this behalf if satisfied that such action is neces sary for the purpose of preventing or combating any activity prejudicial to the public safety or the maintenance of public order, may, by order in writing addressed to a print er, publisher or editor * * * * (c) require that any matter relating to a particular subject or class of subjects shall before publication be submitted for scrutiny;\" It should be noted that the provisions of sub clause (c) arc not in general terms but are confined to a \"particular subject or class of subjects,\" and that having regard to the context in which these words are used, they must be connect ed with \"public safety or the maintenance of public order.\n",
    "\" The petitioners, on whose behalf this provision is assailed, are respectively the printer (and publisher) and editor of an English weekly of Delhi called Organizer, and they pray for the issue of writs of certiorari and prohibi tion to the Chief Commissioner, Delhi, with a view ' 'to examine and review the legality\" of and \"restrain the operation\" of and \"quash\" the order made by him on the 2nd March, 1950, under the impugned section, directing them \"to submit for scrutiny, in duplicate, before publication, till further orders, all communal matter and news and views about Pakistan including photographs and cartoons other than those derived from official sources or supplied by the news agencies. \" The order in question recites among other things that the Chief Commissioner is satisfied that the Organizer has been publishing highly objectionable matter constituting a threat to public law and order and that action to which reference has been made is necessary for the purpose of preventing or combating activities 610 prejudicial to the public safety or the maintenance of public order.\n",
    "It is contended on behalf of the petitioners that notwithstanding these recitals the order complained against is liable to be quashed, because it amounts to an infringement of the right of freedom of speech and expres sion guaranteed by article 19 (1) (a) of the Constitution.\n",
    "Articles 19 (1) (a) and (2), which are to be read together, run as follows : 19, (1) All citizens shall have the right (a) to freedom of speech and expression; * * * * (2) Nothing in sub clause (a) of clause (1) shall affect the operation of any existing law in so far as it relates to, or prevent the State from making any law relating to, libel, slander, defamation, contempt of Court or any matter which offends against decency or morality or which under mines the security of, or tends to overthrow, the State.\n",
    "\" It is contended that section 7 (1)(c) of the Act, under which the impugned order has been made, cannot be saved by clause (2) of article 19 of the Constitution, because it does not relate to any matter which undermines the security of, or tends to overthrow, the State.\n",
    "Thus the main ground of attack is that the impugned law is an infringement of a fundamental right and is not saved by the so called saving clause to which reference has been made.\n",
    "There can be no doubt that to impose pre censorship on a journal, such as has been ordered by the Chief Commissioner in this case, is a restriction on the liberty of the press which is included in the right to freedom of speech and expression guaranteed by article 19 (1) (a) of the Constitu tion, and the only question which we have therefore to decide is whether clause (2) of article 19 stands in the way of the petitioners.\n",
    "The East Punjab Public Safety Act, 1949, of which sec tion 7 is a part, was passed by the Provincial Legislature in exercise of the power conferred upon it by section 100 of the Government of India Act, 1935, is 611 read with Entry 1 of List II of the Seventh Schedule to that Act, which includes among other matters \"public order.\" This expression in the general sense may be construed to have reference to the maintenance of what is generally known as law and order in the Province, and this is confirmed by the words which follow it in Entry 1 of List II and which have been put within brackets, viz., \"but not including the use of naval, military or air forces or any other armed forces of the Union in aid of the civil power.\n",
    "\" It is clear that anything which affects public tranquillity within the State or the Province will also affect public order and the State Legislature is therefore competent to frame laws on matters relating to public tranquillity and public order.\n",
    "It was not disputed that under the Government of India Act, 1935 (under, which the impugned Act was passed) it was the responsibility of each Province to deal with all internal disorders whatever their magnitude may be and to preserve public tranquillity and order within the Province.\n",
    "At this stage, it will be convenient to consider the meaning of another expression \"public safety\" which is used throughout the impugned Act and which is also chosen by its framers for its title.\n",
    "This expression, though it has been variously used in different contexts (see the Indian Penal Code, Ch.\n",
    "XIV), has now acquired a well recognized meaning in relation to an Act like the impugned Act, as a result of a long course of legislative practice, and may be taken to denote safety or security of the State.\n",
    "In this sense, it was used in the Defence of the Realm (Consolidation) Act, 1914, as well as the Defence of India Act.\n",
    "and this is how it was judicially interpreted in Rex vs Governor of Wormwood Scrubbs Prison(1).\n",
    "The headnote of this case runs as follows \"By section 1 of the Defence of the Realm (Consolidation) Act, 1914, power was given to His Majesty in Council 'during the continuance of the present war to issue regula tions . for securing the public safety and the de fence of the realm ' : (1) 612 Held, that the regulations thereby authorized were not limited to regulations for the protection of the country against foreign enemies, but included regulations designed for the prevention of internal disorder and rebellion \" Thus 'public order ' and 'public safety ' are allied matters, but, in order to appreciate how they stand in relation to each other, it seems best to direct our atten tion to the opposite concepts which we may, for convenience of reference, respectively label as 'public disorder ' and 'public unsafety '.\n",
    "If 'public safety ' is, as we have seen, equivalent to 'security of the State ', what I have designat ed as public unsafety may be regarded as equivalent to 'insecurity of the State '.\n",
    "When we approach the matter in this way, we find that while 'public disorder ' iS wide enough to cover a small riot or an affray and other cases where peace is disturbed by, or affects, a small group of persons, 'public unsafety ' (or insecurity of the State), will usually be connected with serious internal disorders and such disturbances of public tranquillity as jeopardize the security of the State.\n",
    "In order to understand the scope of the Act, it will be necessary to note that in the Act \"maintenance of public order\" always occurs in juxtaposition with \"public safety\", and the Act itself is called \"The East Punjab Public Safety Act.\n",
    "\" The prominence thus given to 'public safety ' strongly suggests that the Act was intended to deal with serious cases of public disorder which affect public safety or the security of the State, or cases in which, owing to some kind of emergency or a grave situation having arisen, even public disorders of comparatively small dimensions may have far reaching effects on the security of the State.\n",
    "It is to be noted that the Act purports to provide \"special measures to ensure public safety and maintenance of public order.\n",
    "\" The words \"special measures\" are rather important, because they show that the Act was not intended for ordinary cases or ordinary situations.\n",
    "The ordinary cases are provided for by the Penal Code and other existing laws, and 613 with these the Act which purports to be of a temporary Act is not apparently concerned.\n",
    "It is concerned with special measures which would presumably be required for special cases or special situations.\n",
    "Once this important fact is grasped and the Act is viewed in the proper perspective, much of the confusion which has been created in the course of the arguments will disappear.\n",
    "The line of argument advanced on behalf of the petitioners is that since the Act has been passed in exercise of the power granted by the expression \"public order,\" used in the Government of India Act, which is a general term of wide import, and since it purports to provide for the maintenance of public order, its provisions are intended or are liable to be used for all cases of breaches of public order, be they small or insig nificant breaches or those of a grave or serious nature.\n",
    "This is, in my opinion, approaching the case from a wrong angle.\n",
    "The Act is a piece of special legislation providing for special measures and the central idea dominating it is public safety and maintenance of public order in a situation requiring special measures.\n",
    "It was argued that \"public safety\" and \"maintenance of public order\" are used in the Act disjunctively and they are separated by the word \"or\" and not \"and,\" and therefore we cannot rule out the possibility of the Act providing for ordinary as well as serious cases of disturbance of public order and tranquillity.\n",
    "This, as I have already indicated, is a somewhat narrow and technical approach to the question.\n",
    "In construing the Act, we must try to get at its aim and purpose, and before the Act is declared to be invalid, we must see whether it is capable of being so construed as to bear a reasonable meaning consistent with its validity.\n",
    "We therefore cannot ignore the fact that preservation of public safety is the dominant purpose of the Act and that it is a special Act providing for special measures and therefore it should not be confused with an Act which is applicable to ordinary situations and to any and every trivial case of breach of public order, 614 In my opinion, the word \"or\" is used here not so much to separate two wholly different concepts as to show that they are closely allied concepts and can be used almost inter changeably in the context.\n",
    "I think that \"public order\" may well be paraphrased in the context as public tranquillity and the words \"public safety\" and \"public order\" may be read as equivalent to \"security of the State\" and \"public tran quillity.\n",
    "\" I will now advert once more to clause (2) of article 19 and state what I consider to be the reason for inserting in it the words \"matter which undermines the security of, or tends to overthrow, the State.\n",
    "\" It is well recognized in all systems of law that the right to freedom of speech and expression or freedom of the press means that any person may write or say what he pleases so long as he does not infringe the law relating to libel or slander or to blasphemous, obscene or seditious words or writings: (see Halsbury 's Laws of England, 2nd Edition, Vol.\n",
    "II, page 391).\n",
    "This is prac tically what has been said in clause (2) of article 19, with this difference only that instead of using the words \"law relating to sedition,\" the framers of the Constitution have used the words mentioned above.\n",
    "It is interesting to note that sedition was mentioned in the original draft of the Constitution, but subsequently that word was dropped and the words which I have quoted were inserted.\n",
    "I think it is not difficult to discover the reason for this change and I shall briefly state in my own words what I consider it to be.\n",
    "The latest pronouncement by the highest Indian tribunal as to the law of sedition is to be found in Niharendu Dutt Majumdar vs The King(1) which has been quoted again and again and in which Gwyer C.J. laid down that public disor der, or the reasonable anticipation or likelihood of public disorder, is the gist of the offence of sedition and \"the acts or words complained of must either incite to disorder or (1) 615 must be such as to satisfy reasonable men that is their intention or tendency.\n",
    "\" For this view, the learned Chief Justice relied on certain observations of Fitzgerald J. in R.v.\n",
    "Sullivan (1), and he also added that he was content to adopt \"the words of that learned Judge which are to be found in every book dealing with this branch of the criminal law.\n",
    "\" There is no doubt that what Gwyer C.J. has stated in that case represents the view of a number of Judges and authors and was also the view of Sir James Stephen in regard to whom Cave J. in his charge to the jury in a case relating to the law of sedition JR.\n",
    "vs Burns(2) said : \"The law upon the question of what is seditious and what is not is to be found stated very clearly in a book by Stephen J. who has undoubtedly a greater knowledge of crimi nal law than any other Judge who sits upon the Bench, and what he has said upon the subject of sedition was submitted to the other Judges, who sometime back were engaged with him in drafting a criminal code, and upon their report the Commissioners say that his statement of law appears to them to be stated accurately as it exists at present.\n",
    "\" The decision of Gwyer C.J. held the field for several years until the Privy Council, dealing with a case under the Defence of India Rules, expressed the view in King Emper or vs Sadhashiv Narayan Bhalerao(3) that the test laid down by the learned Chief Justice was not applicable in India where the offence under section 124A of the Indian Penal Code should be construed with reference to the words used in that section.\n",
    "They also added : \"The word 'sedition ' does not occur either in section 124A or in the Rule; it is only found as a marginal note to section 124A, and is not an operative part of the section, but merely provides the name by which the crime defined in the section will be known.\n",
    "(1) [1868] 11 Cox c.c. 44.\n",
    "(2) [1886] 16 cox 855.\n",
    "(8) 74 I.A. 616 There can be no justification for restricting the contents of the section by the marginal note.\n",
    "In England there is no statutory definition of sedition; its meaning and content have been laid down in many decisions, some of which are referred to by the Chief Justice, but these decisions are not relevant when you have a statutory definition of that which is termed sedition as we have in the present case.\n",
    "Their Lordships are unable to find anything in the language of either section 124A or the Rule which could suggest that 'the acts or words complained of must either incite to disorder or must be such as to satisfy reasonable men that this is their intention or tendency.\n",
    "\" The framers of the Constitution must have therefore found themselves face to face with the dilemma as to whether the word \"sedition\" should be used in article 19 (2) and if it was to be used in what sense it was to be used.\n",
    "On the one hand, they must have had before their mind the very widely accepted view supported by numerous authorities that sedition was essentially an offence against public tranquil lity and was connected in some way or other with public disorder; and, on the other hand, there was the pronounce ment of the Judicial Committee that sedition as defined in the Indian Penal Code did not necessarily imply any inten tion or tendency to incite disorder.\n",
    "In these circumstances, it is not surprising that they decided not to use the word \"sedition\" in clause (2) but used the more general words which cover sedition and everything else which makes sedi tion such a serious offence.\n",
    "That sedition does undermine the security of the State is a matter which cannot admit of much doubt.\n",
    "That it undermines the security of the State usually through the medium of public disorder is also a matter on which eminent Judges and jurists are agreed.\n",
    "Therefore it is difficult to hold that public disorder or disturbance of public tranquillity are not matters which undermine the security of the State.\n",
    "617 It will not be out of place to quote here the following passage from Stephen 's Criminal Law of England (Vol. II, pp. 242 and 243) : \"It often happens, however, that the public peace is disturbed by offences which without tending to the subver sion of the existing political constitution practically subvert the authority of the Government over a greater or less local area for a longer or shorter time.\n",
    "The Bristol riots in 1832 and the Gordon riots in 1780 are instances of this kind.\n",
    "No definite line can be drawn between insur rections of this sort, ordinary riots, and unlawful assem blies.\n",
    "The difference between a meeting stormy enough to cause well founded fear of a breach of the peace, and a civil war the result of which may determine the course of a nation 's history for centuries, is a difference of degree.\n",
    "Unlawful assemblies, riots, insurrections, rebellions, levying of war, are offences which run into each other, and are not capable of being marked off by perfectly definite boundaries, All of them have in common one feature, namely, that the normal tranquillity of a civilised society is in each of the cases mentioned disturbed either by actual force or at least by the show and threat of it.\n",
    "Another class of offences against public tranquillity are those in which no actual force is either employed or displayed, but in which steps are taken tending to cause it.\n",
    "These are the formation of secret societies, seditious conspiracies, libels or words spoken.\n",
    "Under these two heads all offences against the internal public tranquillity of the State may be arranged.\n",
    "\" This passage brings out two matters with remarkable clarity.\n",
    "It shows firstly that sedition is essentially an offence against public tranquillity and secondly that broadly speaking there are two classes of offences against public tranquillity: (a) those accompanied by violence including disorders which 618 affect tranquillity of a considerable number of persons or an extensive local area, and (b) those not accompanied by violence but tending to cause it, such as seditious utter ances, seditious conspiracies, etc.\n",
    "Both these classes of offences are such as will undermine the security of the State or tend to overthrow it if left unchecked, and, as I have tried to point out, there is a good deal of authorita tive opinion in favour of the view that the gravity ascribed to sedition is due to the fact that it tends to seriously affect the tranquillity and security of the State.\n",
    "In principle, then, it would not have been logical to refer to sedition in clause (2) of article 19 and omit matters which are no less grave and which have equal potentiality for undermining the security of the State.\n",
    "It appears that the framers of the Constitution preferred to adopt the logical course and have used the more general and basic words which are apt to cover sedition as well as other matters which are as detrimental to the security of the State as sedition.\n",
    "If the Act is to be viewed as I have suggested, it is difficult to hold that section 7 (1) (c) falls outside the ambit of article 19 (2).\n",
    "That clause clearly states that nothing in clause (1) (a) shall affect the operation of any existing law relating to any matter which undermines the security of, or tends to overthrow, the State.\n",
    "I have tried to show that public disorders and disturbance of public tranquillity do undermine the security of the State and if the Act is a law aimed at preventing such disorders, it fulfils the requirement of the Constitution.\n",
    "It is needless to add that the word \"State\" has been defined in article 12 of the Constitution to include \"the Government and Parlia ment of India and the Government and Legislature of each of the States and all local or other authorities within the territory of India or under the control of the Government of India.\n",
    "\" I find that section 20 of the impugned Act provides that the Provincial Government may by notification 619 declare that the whole or any part of the Province as may be specified in the notification is a dangerously disturbed area.\n",
    "This provision has some bearing on the aim and object of the Act, and we cannot overlook it when considering its scope.\n",
    "It may be incidentally mentioned that we have been informed that, under this section, Delhi Province has been notified to be a \"dangerously disturbed area.\n",
    "\" It must be recognized that freedom of speech and expres sion is one of the most valuable rights guaranteed to a citizen by the Constitution and should be jealously guard ed by the Courts.\n",
    "It must also be recognised that free political discussion is essential for the proper functioning of a democratic government, and the tendency of modern jurists is to deprecate censorship though they all agree that \"liberty of the press\" is not to be confused with its \"licentiousness.\n",
    "\" But the Constitution itself has pre scribed certain limits for the exercise of the freedom of speech and expression and this Court is only called upon to see whether a particular case comes within those limits.\n",
    "In my opinion, the law which is impugned is fully saved by article 19 (2) and if it cannot be successfully assailed it is not possible to grant the remedy which the petitioners are seeking here.\n",
    "As has been stated already, the order which is impugned in this case recites that the weekly Organizer has been publishing highly objectionable matter constituting a threat to public law and order\" and that the action which it is proposed to take against the petitioners \"is necessary for the purpose of preventing or combating activities prejudi cial to public safety or the maintenance of public order.\n",
    "\" These facts are supported by an affidavit sworn by the Home Secretary to the Chief Commissioner, who also states among other things that the order in question was passed by the Chief Commissioner in consultation with the Central Press Advisory Committee, which is an independent body elected by the All India Newspaper Editors ' Conference and is composed of 620 representatives of some of the leading papers such as The Hindustan Times, Statesman, etc.\n",
    "In my opinion, there can be no doubt that the Chief Commissioner has purported to act in this case within the sphere within which he is permitted to act under the law, and it is beyond the power of this Court to grant the reliefs claimed by the petitioners.\n",
    "In these circumstances, I would dismiss the petitioners ' application.\n",
    "Petition allowed.\n",
    "Agent for the petitioners: Ganpat Rai.\n",
    "\"\"\""
   ]
  },
  {
   "cell_type": "code",
   "execution_count": 19,
   "metadata": {},
   "outputs": [],
   "source": [
    "summary_text = summarize(led_in, led_in_tokenizer, user_text)"
   ]
  },
  {
   "cell_type": "code",
   "execution_count": 20,
   "metadata": {},
   "outputs": [
    {
     "data": {
      "text/plain": [
       "'On 2nd March, 1950, the respondent, in exercise of powers conferred on him by section 7 (1) (c) of the East Punjab Public Safety Act, 1949, issued an order in regard to an English weekly of Delhi called the Organizer of which the first applicant is the printer and publisher, and the second is the editor. The second applicant is the editor. The third applicant is the printer and publisher. The third applicant is the editor. The third applicant is the printer and publisher. The fourth applicant is the editor. The third applicant is the printer and publisher. The third applicant is the printer and publisher. The third applicant is the editor. The third applicant is the printer and publisher. The third applicant is the printer and publisher. The third applicant is the editor. The third applicant is the printer and publisher. The third applicant is the printer and publisher. The third applicant is the editor. The third applicant is the printer and publisher. The third applicant is the printer and publisher. The third applicant is the editor. The third applicant is the printer and publisher. The third applicant is the editor. The third applicant is the printer and publisher. The third applicant is the editor. The third applicant is the printer and publisher. The third applicant is the'"
      ]
     },
     "execution_count": 20,
     "metadata": {},
     "output_type": "execute_result"
    }
   ],
   "source": [
    "summary_text"
   ]
  },
  {
   "cell_type": "code",
   "execution_count": null,
   "metadata": {},
   "outputs": [],
   "source": []
  }
 ],
 "metadata": {
  "kernelspec": {
   "display_name": "Python 3",
   "language": "python",
   "name": "python3"
  },
  "language_info": {
   "codemirror_mode": {
    "name": "ipython",
    "version": 3
   },
   "file_extension": ".py",
   "mimetype": "text/x-python",
   "name": "python",
   "nbconvert_exporter": "python",
   "pygments_lexer": "ipython3",
   "version": "3.12.2"
  }
 },
 "nbformat": 4,
 "nbformat_minor": 2
}
